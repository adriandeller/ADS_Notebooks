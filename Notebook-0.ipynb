{
    "metadata": {
        "kernelspec": {
            "name": "powershell",
            "display_name": "PowerShell"
        },
        "language_info": {
            "name": "powershell",
            "codemirror_mode": "shell",
            "mimetype": "text/x-sh",
            "file_extension": ".ps1"
        }
    },
    "nbformat_minor": 2,
    "nbformat": 4,
    "cells": [
        {
            "cell_type": "markdown",
            "source": [
                "AD Checks"
            ],
            "metadata": {
                "azdata_cell_guid": "80ac59a6-5023-40b5-856d-03b79b6d1199"
            }
        },
        {
            "cell_type": "markdown",
            "source": [
                "# Configure"
            ],
            "metadata": {
                "azdata_cell_guid": "2a340250-e392-40d7-bc3b-c30b2840d37b"
            }
        },
        {
            "cell_type": "code",
            "source": [
                "$MyCustomVar = ''\r\n",
                "$MyCustomVar2 = $env:USERNAME"
            ],
            "metadata": {
                "azdata_cell_guid": "ae5d368b-b904-4129-83a2-67d86f9c3d8b"
            },
            "outputs": [
                {
                    "name": "stdout",
                    "text": "",
                    "output_type": "stream"
                }
            ],
            "execution_count": 2
        },
        {
            "cell_type": "markdown",
            "source": [
                "# Run"
            ],
            "metadata": {
                "azdata_cell_guid": "9e57a2cb-175b-4976-8517-7105a87e9926"
            }
        },
        {
            "cell_type": "code",
            "source": [
                " Write-Host (\"Hello {0}\" -f $MyCustomVar2)"
            ],
            "metadata": {
                "azdata_cell_guid": "e99a744e-fdf0-4b0f-8912-7e59c8d9a159"
            },
            "outputs": [
                {
                    "name": "stdout",
                    "text": "Hello Adrian\n",
                    "output_type": "stream"
                }
            ],
            "execution_count": 3
        },
        {
            "cell_type": "code",
            "source": [
                "Get-ComputerInfo | Select-Object OsName, WindowsProductName, WindowsEditionId"
            ],
            "metadata": {
                "azdata_cell_guid": "126a9f90-459a-45df-87aa-7ebfb7cd81aa",
                "tags": [
                    "hide_input"
                ]
            },
            "outputs": [],
            "execution_count": 8
        },
        {
            "cell_type": "markdown",
            "source": [
                "## Install Module"
            ],
            "metadata": {
                "azdata_cell_guid": "049560c0-44ca-4bd1-87a1-723cb36cc3f5"
            }
        },
        {
            "cell_type": "code",
            "source": [
                "Install-Module -Name ImportExcel -Scope CurrentUser\r\n",
                "Install-Module -Name PowerShellNotebook -Scope CurrentUser"
            ],
            "metadata": {
                "azdata_cell_guid": "51d07edd-48e5-4fbb-8ebc-35af5f4ce83c"
            },
            "outputs": [],
            "execution_count": 0
        },
        {
            "cell_type": "code",
            "source": [
                "Invoke-PowerShellNotebook -AsExcel"
            ],
            "metadata": {
                "azdata_cell_guid": "d8969e0b-ca41-4ba3-a849-a38cf4aceccb"
            },
            "outputs": [],
            "execution_count": 0
        }
    ]
}