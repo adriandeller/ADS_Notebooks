{
    "metadata": {
        "kernelspec": {
            "name": "powershell",
            "display_name": "PowerShell"
        },
        "language_info": {
            "name": "powershell",
            "codemirror_mode": "shell",
            "mimetype": "text/x-sh",
            "file_extension": ".ps1"
        }
    },
    "nbformat_minor": 2,
    "nbformat": 4,
    "cells": [
        {
            "cell_type": "markdown",
            "source": [
                "# Azure Data Studio PowerShell Notebook"
            ],
            "metadata": {
                "azdata_cell_guid": "80ac59a6-5023-40b5-856d-03b79b6d1199"
            }
        },
        {
            "cell_type": "markdown",
            "source": [
                "## Configure"
            ],
            "metadata": {
                "azdata_cell_guid": "2a340250-e392-40d7-bc3b-c30b2840d37b"
            }
        },
        {
            "cell_type": "code",
            "source": [
                "$MyCustomVar = 'Windows'\r\n",
                "$MyCustomVar2 = $env:USERNAME"
            ],
            "metadata": {
                "azdata_cell_guid": "ae5d368b-b904-4129-83a2-67d86f9c3d8b"
            },
            "outputs": [],
            "execution_count": 1
        },
        {
            "cell_type": "markdown",
            "source": [
                "## Run"
            ],
            "metadata": {
                "azdata_cell_guid": "9e57a2cb-175b-4976-8517-7105a87e9926"
            }
        },
        {
            "cell_type": "code",
            "source": [
                "Get-Service | Where-Object DisplayName -notlike \"*$MyCustomVar*\""
            ],
            "metadata": {
                "azdata_cell_guid": "1ec28e12-b9ae-4f9a-8f22-a633d96c0270"
            },
            "outputs": [],
            "execution_count": 2
        },
        {
            "cell_type": "code",
            "source": [
                " Write-Host (\"Hello {0}\" -f $MyCustomVar2)"
            ],
            "metadata": {
                "azdata_cell_guid": "e99a744e-fdf0-4b0f-8912-7e59c8d9a159"
            },
            "outputs": [],
            "execution_count": 3
        },
        {
            "cell_type": "code",
            "source": [
                "Get-ComputerInfo | Select-Object OsName, WindowsProductName, WindowsEditionId"
            ],
            "metadata": {
                "azdata_cell_guid": "126a9f90-459a-45df-87aa-7ebfb7cd81aa",
                "tags": [
                    "hide_input"
                ]
            },
            "outputs": [],
            "execution_count": 4
        }
    ]
}