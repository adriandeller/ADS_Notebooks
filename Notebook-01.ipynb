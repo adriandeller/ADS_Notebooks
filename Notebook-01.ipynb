{
    "metadata": {
        "kernelspec": {
            "name": "powershell",
            "display_name": "PowerShell"
        },
        "language_info": {
            "name": "powershell",
            "codemirror_mode": "shell",
            "mimetype": "text/x-sh",
            "file_extension": ".ps1"
        }
    },
    "nbformat_minor": 2,
    "nbformat": 4,
    "cells": [
        {
            "cell_type": "markdown",
            "source": [
                "# Azure Data Studio PowerShell Notebook"
            ],
            "metadata": {
                "azdata_cell_guid": "80ac59a6-5023-40b5-856d-03b79b6d1199"
            }
        },
        {
            "cell_type": "markdown",
            "source": [
                "## Configure"
            ],
            "metadata": {
                "azdata_cell_guid": "2a340250-e392-40d7-bc3b-c30b2840d37b"
            }
        },
        {
            "cell_type": "code",
            "source": [
                "$MyCustomVar = 'Windows'\r\n",
                "$MyCustomVar2 = $env:USERNAME"
            ],
            "metadata": {
                "azdata_cell_guid": "ae5d368b-b904-4129-83a2-67d86f9c3d8b"
            },
            "outputs": [
                {
                    "name": "stdout",
                    "text": "",
                    "output_type": "stream"
                }
            ],
            "execution_count": 14
        },
        {
            "cell_type": "markdown",
            "source": [
                "## Run"
            ],
            "metadata": {
                "azdata_cell_guid": "9e57a2cb-175b-4976-8517-7105a87e9926"
            }
        },
        {
            "cell_type": "markdown",
            "source": [
                "### Export results from Code blocks to Excel / OGV"
            ],
            "metadata": {
                "azdata_cell_guid": "dd023c0b-0e0f-442b-ba88-b2d48536d057"
            }
        },
        {
            "cell_type": "code",
            "source": [
                "$MyServices = Get-Service | Where-Object DisplayName -notlike \"*$MyCustomVar*\" | Select-Object -First 10"
            ],
            "metadata": {
                "azdata_cell_guid": "f805b0d7-02ce-449d-aa15-90ddb3ed312d"
            },
            "outputs": [
                {
                    "name": "stdout",
                    "text": "",
                    "output_type": "stream"
                }
            ],
            "execution_count": 15
        },
        {
            "cell_type": "code",
            "source": [
                "$MyServices | Select-Object Name,Status,StartType | Export-Excel -Show"
            ],
            "metadata": {
                "azdata_cell_guid": "fbd20acd-3aea-4b45-bc26-f5cd1137bd6f"
            },
            "outputs": [
                {
                    "name": "stdout",
                    "text": "",
                    "output_type": "stream"
                }
            ],
            "execution_count": 16
        },
        {
            "cell_type": "code",
            "source": [
                "$MyServices | Select-Object Name,Status,StartType | Out-GridView"
            ],
            "metadata": {
                "azdata_cell_guid": "d8969e0b-ca41-4ba3-a849-a38cf4aceccb"
            },
            "outputs": [
                {
                    "name": "stdout",
                    "text": "",
                    "output_type": "stream"
                }
            ],
            "execution_count": 17
        }
    ]
}